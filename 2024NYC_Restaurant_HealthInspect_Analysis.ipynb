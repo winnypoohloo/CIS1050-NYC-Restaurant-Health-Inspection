{
  "cells": [
    {
      "cell_type": "markdown",
      "metadata": {
        "id": "RgRap97G_rzo"
      },
      "source": [
        "# CIS 1050 Final Project\n",
        "\n",
        "This notebook should be submitted to the Gradescope assignment. Again, only one person in the group needs to submit the file.\n",
        "\n",
        "Note: any unused code (extra visualizations, extra cleaning, extra hypotheses/models that you tested, even hypotheses that didn't work) should be placed into a separate notebook and submitted on Gradescope (Canvas if the file is too large). Please be clear that this isn't your final submission, though (name it something like \"Final Project Extra Code\").\n",
        "\n",
        "Please also submit your final dataset to Gradescope (again, Canvas if the size is too large)."
      ]
    },
    {
      "cell_type": "markdown",
      "metadata": {
        "id": "jY7_A5oE_rzu"
      },
      "source": [
        "# Abstract (in about 200 words or less explain what you set out to do and what you found)\n",
        "\n",
        "In this project, I explored four hypothesis to analyze the health inspection data from NYC restaurants. THe first hypothesis investigated the inspection scores of Staten Isalnd restaurants and plotted those against other boroughs, revealing Staten Island had significantly lower scores with a p-value of 0.0. The second hypothesis compared the distribution of cuisines between the Bronx and Manhattan, using total variation distance (TVD) to confirm that these boroughs have distinctly different restaurant cuisines (p < 0.001). In the third hypothesis, we explored whether coffee/tea or pizza restaurants exhibited more critical health inspection results. The difference in critical inspection ratio was statistically significant (p < 0.001), indicating a preference for one cuisine type. Lastly, I constructed a regression model to predict health inspection scores based on cuisine type, finding that certain cuisines correlated significantly with high or lower inspection scores (p < 0.04). Together, these analyses demonstrate significant borough-based differences and cuisine-type correlations in health inspection results, helping guide food safety improvements across New York City."
      ]
    },
    {
      "cell_type": "markdown",
      "source": [
        "# Description of Data (can be copied over from Project Proposal)\n",
        "\n",
        "Link the site where you downloaded your data from. Also include descriptions of any merged data.\n",
        "\n",
        "https://data.cityofnewyork.us/Health/DOHMH-New-York-City-Restaurant-Inspection-Results/43nn-pn8j/data_preview\n",
        "\n",
        "COLUMNS: CAMIS: 10-digit integer ID for an entity (restaurant)\n",
        "\n",
        "DBA: Name of the establishments\n",
        "\n",
        "BORO: Borough in which the establishment is (1 = MANHATTAN • 2 = BRONX • 3 = BROOKLYN • 4 = QUEENS • 5 = STATEN ISLAND • Missing; NOTE: There may be discrepancies between zip code and listed boro due to differences in an establishment's mailing address and physical location) - From the website\n",
        "\n",
        "Street: Street Name of the Establishment location\n",
        "\n",
        "Zipcode: Self-explanatory\n",
        "\n",
        "Phone: Phone number provided by establishments\n",
        "\n",
        "Cuisine Description: Restaurant's specialty, provided by restaurant owner/managers\n",
        "\n",
        "Inspection date: Date of inspection. 1/1/1900 means an establishment has not had an inspection yet.\n",
        "\n",
        "Action: An action that is associated with a restaurant (Either there was a violation or no violations were recorded at the time of the inspection) - \"Missing\" means the restaurant has yet to be inspected.\n",
        "\n",
        "Violation Code: Common code of health inspection violation\n",
        "\n",
        "Violation Description: Description of said corresponding code\n",
        "\n",
        "Critical Flag: Indicator of if the violation is critical or not to restaurant's ability to operate safely.\n",
        "\n",
        "Score: Numerical health inspection score\n",
        "\n",
        "Grade: Grade associated with inspectation. N = not yet graded, Z= grade pending, P= grade pending on re-opening, and A-C.\n",
        "\n",
        "Grade Date: Date grade was issued\n",
        "\n",
        "Record Date: the date when the extraction of the data was made to create this dataset.\n",
        "\n",
        "Insepction Type: Inspection program categorization, what was the inspection for? basically.\n",
        "\n",
        "Latitude, Longitude: Self-explanatory Community Board: Really unknown to me but search results suggest each number corresponds to a community board/association that manages the community around establishment.\n",
        "\n",
        "Council District - Same idea as above\n",
        "\n",
        "Census Tract: Small permanant statistical subdivisions of a county\n",
        "\n",
        "BIN: DOB Building Identification Nmber\n",
        "\n",
        "BBL: Borough-block-lot identifying location of properties\n",
        "\n",
        "NTA: Neighborhood Tabulation Areas (aggregation of census tracts)\n",
        "\n",
        "Location Point1: NULL, no data collected/category placeholder for software application?"
      ],
      "metadata": {
        "id": "cKeUVfscA-Gr"
      }
    },
    {
      "cell_type": "code",
      "source": [
        "import pandas as pd\n",
        "import matplotlib.pyplot as plt\n",
        "import numpy as np\n",
        "\n",
        "\n",
        "from google.colab import drive\n",
        "\n",
        "drive.mount('/content/gdrive')\n",
        "\n",
        "inspection=pd.read_csv('gdrive/My Drive/NYC_Inspection.csv')\n",
        "\n",
        "inspection.head()"
      ],
      "metadata": {
        "colab": {
          "base_uri": "https://localhost:8080/",
          "height": 724
        },
        "id": "r1FoA1fUdGDW",
        "outputId": "f207b47a-f38d-4c59-f3af-5874c4f67bb7"
      },
      "execution_count": 2,
      "outputs": [
        {
          "output_type": "stream",
          "name": "stdout",
          "text": [
            "Mounted at /content/gdrive\n"
          ]
        },
        {
          "output_type": "execute_result",
          "data": {
            "text/plain": [
              "      CAMIS                                DBA       BORO BUILDING  \\\n",
              "0  40751933                SIDO FALAFEL & MORE  Manhattan      267   \n",
              "1  50006323                 LA ISLA RESTAURANT   Brooklyn     1439   \n",
              "2  41647897                    WYTHE HOTEL BAR   Brooklyn       80   \n",
              "3  40367365                    THE FLAME DINER  Manhattan      893   \n",
              "4  41119269  ROYAL INDIA PALACE AND RESTAURANT     Queens    11808   \n",
              "\n",
              "            STREET  ZIPCODE       PHONE CUISINE DESCRIPTION INSPECTION DATE  \\\n",
              "0  COLUMBUS AVENUE  10023.0  2124962803       Mediterranean      04/26/2023   \n",
              "1    MYRTLE AVENUE  11237.0  7184170668             Spanish      05/10/2022   \n",
              "2     WYTHE AVENUE  11249.0  7184608000            American      01/15/2023   \n",
              "3         9 AVENUE  10019.0  2127657962            American      07/06/2022   \n",
              "4  ATLANTIC AVENUE  11419.0  7188467600              Indian      03/01/2024   \n",
              "\n",
              "                                            ACTION  ...  \\\n",
              "0  Violations were cited in the following area(s).  ...   \n",
              "1  Violations were cited in the following area(s).  ...   \n",
              "2  Violations were cited in the following area(s).  ...   \n",
              "3  Violations were cited in the following area(s).  ...   \n",
              "4  Violations were cited in the following area(s).  ...   \n",
              "\n",
              "                                     INSPECTION TYPE   Latitude  Longitude  \\\n",
              "0  Administrative Miscellaneous / Initial Inspection  40.777716 -73.978556   \n",
              "1                   Cycle Inspection / Re-inspection  40.698821 -73.918239   \n",
              "2                   Cycle Inspection / Re-inspection  40.722036 -73.957736   \n",
              "3              Cycle Inspection / Initial Inspection  40.768432 -73.985343   \n",
              "4                   Cycle Inspection / Re-inspection  40.693861 -73.828684   \n",
              "\n",
              "   Community Board Council District Census Tract        BIN           BBL  \\\n",
              "0            107.0              6.0      15700.0  1028631.0  1.011250e+09   \n",
              "1            304.0             37.0      43100.0  3075417.0  3.033000e+09   \n",
              "2            301.0             33.0      55700.0  3335591.0  3.022880e+09   \n",
              "3            104.0              6.0      13900.0  1026889.0  1.010670e+09   \n",
              "4            409.0             28.0      12000.0  4199105.0  4.094360e+09   \n",
              "\n",
              "    NTA  Location Point1  \n",
              "0  MN14              NaN  \n",
              "1  BK77              NaN  \n",
              "2  BK73              NaN  \n",
              "3  MN15              NaN  \n",
              "4  QN54              NaN  \n",
              "\n",
              "[5 rows x 27 columns]"
            ],
            "text/html": [
              "\n",
              "  <div id=\"df-8b0dbbc3-b6a9-4c59-be71-aa9599fea5e1\" class=\"colab-df-container\">\n",
              "    <div>\n",
              "<style scoped>\n",
              "    .dataframe tbody tr th:only-of-type {\n",
              "        vertical-align: middle;\n",
              "    }\n",
              "\n",
              "    .dataframe tbody tr th {\n",
              "        vertical-align: top;\n",
              "    }\n",
              "\n",
              "    .dataframe thead th {\n",
              "        text-align: right;\n",
              "    }\n",
              "</style>\n",
              "<table border=\"1\" class=\"dataframe\">\n",
              "  <thead>\n",
              "    <tr style=\"text-align: right;\">\n",
              "      <th></th>\n",
              "      <th>CAMIS</th>\n",
              "      <th>DBA</th>\n",
              "      <th>BORO</th>\n",
              "      <th>BUILDING</th>\n",
              "      <th>STREET</th>\n",
              "      <th>ZIPCODE</th>\n",
              "      <th>PHONE</th>\n",
              "      <th>CUISINE DESCRIPTION</th>\n",
              "      <th>INSPECTION DATE</th>\n",
              "      <th>ACTION</th>\n",
              "      <th>...</th>\n",
              "      <th>INSPECTION TYPE</th>\n",
              "      <th>Latitude</th>\n",
              "      <th>Longitude</th>\n",
              "      <th>Community Board</th>\n",
              "      <th>Council District</th>\n",
              "      <th>Census Tract</th>\n",
              "      <th>BIN</th>\n",
              "      <th>BBL</th>\n",
              "      <th>NTA</th>\n",
              "      <th>Location Point1</th>\n",
              "    </tr>\n",
              "  </thead>\n",
              "  <tbody>\n",
              "    <tr>\n",
              "      <th>0</th>\n",
              "      <td>40751933</td>\n",
              "      <td>SIDO FALAFEL &amp; MORE</td>\n",
              "      <td>Manhattan</td>\n",
              "      <td>267</td>\n",
              "      <td>COLUMBUS AVENUE</td>\n",
              "      <td>10023.0</td>\n",
              "      <td>2124962803</td>\n",
              "      <td>Mediterranean</td>\n",
              "      <td>04/26/2023</td>\n",
              "      <td>Violations were cited in the following area(s).</td>\n",
              "      <td>...</td>\n",
              "      <td>Administrative Miscellaneous / Initial Inspection</td>\n",
              "      <td>40.777716</td>\n",
              "      <td>-73.978556</td>\n",
              "      <td>107.0</td>\n",
              "      <td>6.0</td>\n",
              "      <td>15700.0</td>\n",
              "      <td>1028631.0</td>\n",
              "      <td>1.011250e+09</td>\n",
              "      <td>MN14</td>\n",
              "      <td>NaN</td>\n",
              "    </tr>\n",
              "    <tr>\n",
              "      <th>1</th>\n",
              "      <td>50006323</td>\n",
              "      <td>LA ISLA RESTAURANT</td>\n",
              "      <td>Brooklyn</td>\n",
              "      <td>1439</td>\n",
              "      <td>MYRTLE AVENUE</td>\n",
              "      <td>11237.0</td>\n",
              "      <td>7184170668</td>\n",
              "      <td>Spanish</td>\n",
              "      <td>05/10/2022</td>\n",
              "      <td>Violations were cited in the following area(s).</td>\n",
              "      <td>...</td>\n",
              "      <td>Cycle Inspection / Re-inspection</td>\n",
              "      <td>40.698821</td>\n",
              "      <td>-73.918239</td>\n",
              "      <td>304.0</td>\n",
              "      <td>37.0</td>\n",
              "      <td>43100.0</td>\n",
              "      <td>3075417.0</td>\n",
              "      <td>3.033000e+09</td>\n",
              "      <td>BK77</td>\n",
              "      <td>NaN</td>\n",
              "    </tr>\n",
              "    <tr>\n",
              "      <th>2</th>\n",
              "      <td>41647897</td>\n",
              "      <td>WYTHE HOTEL BAR</td>\n",
              "      <td>Brooklyn</td>\n",
              "      <td>80</td>\n",
              "      <td>WYTHE AVENUE</td>\n",
              "      <td>11249.0</td>\n",
              "      <td>7184608000</td>\n",
              "      <td>American</td>\n",
              "      <td>01/15/2023</td>\n",
              "      <td>Violations were cited in the following area(s).</td>\n",
              "      <td>...</td>\n",
              "      <td>Cycle Inspection / Re-inspection</td>\n",
              "      <td>40.722036</td>\n",
              "      <td>-73.957736</td>\n",
              "      <td>301.0</td>\n",
              "      <td>33.0</td>\n",
              "      <td>55700.0</td>\n",
              "      <td>3335591.0</td>\n",
              "      <td>3.022880e+09</td>\n",
              "      <td>BK73</td>\n",
              "      <td>NaN</td>\n",
              "    </tr>\n",
              "    <tr>\n",
              "      <th>3</th>\n",
              "      <td>40367365</td>\n",
              "      <td>THE FLAME DINER</td>\n",
              "      <td>Manhattan</td>\n",
              "      <td>893</td>\n",
              "      <td>9 AVENUE</td>\n",
              "      <td>10019.0</td>\n",
              "      <td>2127657962</td>\n",
              "      <td>American</td>\n",
              "      <td>07/06/2022</td>\n",
              "      <td>Violations were cited in the following area(s).</td>\n",
              "      <td>...</td>\n",
              "      <td>Cycle Inspection / Initial Inspection</td>\n",
              "      <td>40.768432</td>\n",
              "      <td>-73.985343</td>\n",
              "      <td>104.0</td>\n",
              "      <td>6.0</td>\n",
              "      <td>13900.0</td>\n",
              "      <td>1026889.0</td>\n",
              "      <td>1.010670e+09</td>\n",
              "      <td>MN15</td>\n",
              "      <td>NaN</td>\n",
              "    </tr>\n",
              "    <tr>\n",
              "      <th>4</th>\n",
              "      <td>41119269</td>\n",
              "      <td>ROYAL INDIA PALACE AND RESTAURANT</td>\n",
              "      <td>Queens</td>\n",
              "      <td>11808</td>\n",
              "      <td>ATLANTIC AVENUE</td>\n",
              "      <td>11419.0</td>\n",
              "      <td>7188467600</td>\n",
              "      <td>Indian</td>\n",
              "      <td>03/01/2024</td>\n",
              "      <td>Violations were cited in the following area(s).</td>\n",
              "      <td>...</td>\n",
              "      <td>Cycle Inspection / Re-inspection</td>\n",
              "      <td>40.693861</td>\n",
              "      <td>-73.828684</td>\n",
              "      <td>409.0</td>\n",
              "      <td>28.0</td>\n",
              "      <td>12000.0</td>\n",
              "      <td>4199105.0</td>\n",
              "      <td>4.094360e+09</td>\n",
              "      <td>QN54</td>\n",
              "      <td>NaN</td>\n",
              "    </tr>\n",
              "  </tbody>\n",
              "</table>\n",
              "<p>5 rows × 27 columns</p>\n",
              "</div>\n",
              "    <div class=\"colab-df-buttons\">\n",
              "\n",
              "  <div class=\"colab-df-container\">\n",
              "    <button class=\"colab-df-convert\" onclick=\"convertToInteractive('df-8b0dbbc3-b6a9-4c59-be71-aa9599fea5e1')\"\n",
              "            title=\"Convert this dataframe to an interactive table.\"\n",
              "            style=\"display:none;\">\n",
              "\n",
              "  <svg xmlns=\"http://www.w3.org/2000/svg\" height=\"24px\" viewBox=\"0 -960 960 960\">\n",
              "    <path d=\"M120-120v-720h720v720H120Zm60-500h600v-160H180v160Zm220 220h160v-160H400v160Zm0 220h160v-160H400v160ZM180-400h160v-160H180v160Zm440 0h160v-160H620v160ZM180-180h160v-160H180v160Zm440 0h160v-160H620v160Z\"/>\n",
              "  </svg>\n",
              "    </button>\n",
              "\n",
              "  <style>\n",
              "    .colab-df-container {\n",
              "      display:flex;\n",
              "      gap: 12px;\n",
              "    }\n",
              "\n",
              "    .colab-df-convert {\n",
              "      background-color: #E8F0FE;\n",
              "      border: none;\n",
              "      border-radius: 50%;\n",
              "      cursor: pointer;\n",
              "      display: none;\n",
              "      fill: #1967D2;\n",
              "      height: 32px;\n",
              "      padding: 0 0 0 0;\n",
              "      width: 32px;\n",
              "    }\n",
              "\n",
              "    .colab-df-convert:hover {\n",
              "      background-color: #E2EBFA;\n",
              "      box-shadow: 0px 1px 2px rgba(60, 64, 67, 0.3), 0px 1px 3px 1px rgba(60, 64, 67, 0.15);\n",
              "      fill: #174EA6;\n",
              "    }\n",
              "\n",
              "    .colab-df-buttons div {\n",
              "      margin-bottom: 4px;\n",
              "    }\n",
              "\n",
              "    [theme=dark] .colab-df-convert {\n",
              "      background-color: #3B4455;\n",
              "      fill: #D2E3FC;\n",
              "    }\n",
              "\n",
              "    [theme=dark] .colab-df-convert:hover {\n",
              "      background-color: #434B5C;\n",
              "      box-shadow: 0px 1px 3px 1px rgba(0, 0, 0, 0.15);\n",
              "      filter: drop-shadow(0px 1px 2px rgba(0, 0, 0, 0.3));\n",
              "      fill: #FFFFFF;\n",
              "    }\n",
              "  </style>\n",
              "\n",
              "    <script>\n",
              "      const buttonEl =\n",
              "        document.querySelector('#df-8b0dbbc3-b6a9-4c59-be71-aa9599fea5e1 button.colab-df-convert');\n",
              "      buttonEl.style.display =\n",
              "        google.colab.kernel.accessAllowed ? 'block' : 'none';\n",
              "\n",
              "      async function convertToInteractive(key) {\n",
              "        const element = document.querySelector('#df-8b0dbbc3-b6a9-4c59-be71-aa9599fea5e1');\n",
              "        const dataTable =\n",
              "          await google.colab.kernel.invokeFunction('convertToInteractive',\n",
              "                                                    [key], {});\n",
              "        if (!dataTable) return;\n",
              "\n",
              "        const docLinkHtml = 'Like what you see? Visit the ' +\n",
              "          '<a target=\"_blank\" href=https://colab.research.google.com/notebooks/data_table.ipynb>data table notebook</a>'\n",
              "          + ' to learn more about interactive tables.';\n",
              "        element.innerHTML = '';\n",
              "        dataTable['output_type'] = 'display_data';\n",
              "        await google.colab.output.renderOutput(dataTable, element);\n",
              "        const docLink = document.createElement('div');\n",
              "        docLink.innerHTML = docLinkHtml;\n",
              "        element.appendChild(docLink);\n",
              "      }\n",
              "    </script>\n",
              "  </div>\n",
              "\n",
              "\n",
              "<div id=\"df-aec7d1ac-cb95-4545-8e00-c249475d505b\">\n",
              "  <button class=\"colab-df-quickchart\" onclick=\"quickchart('df-aec7d1ac-cb95-4545-8e00-c249475d505b')\"\n",
              "            title=\"Suggest charts\"\n",
              "            style=\"display:none;\">\n",
              "\n",
              "<svg xmlns=\"http://www.w3.org/2000/svg\" height=\"24px\"viewBox=\"0 0 24 24\"\n",
              "     width=\"24px\">\n",
              "    <g>\n",
              "        <path d=\"M19 3H5c-1.1 0-2 .9-2 2v14c0 1.1.9 2 2 2h14c1.1 0 2-.9 2-2V5c0-1.1-.9-2-2-2zM9 17H7v-7h2v7zm4 0h-2V7h2v10zm4 0h-2v-4h2v4z\"/>\n",
              "    </g>\n",
              "</svg>\n",
              "  </button>\n",
              "\n",
              "<style>\n",
              "  .colab-df-quickchart {\n",
              "      --bg-color: #E8F0FE;\n",
              "      --fill-color: #1967D2;\n",
              "      --hover-bg-color: #E2EBFA;\n",
              "      --hover-fill-color: #174EA6;\n",
              "      --disabled-fill-color: #AAA;\n",
              "      --disabled-bg-color: #DDD;\n",
              "  }\n",
              "\n",
              "  [theme=dark] .colab-df-quickchart {\n",
              "      --bg-color: #3B4455;\n",
              "      --fill-color: #D2E3FC;\n",
              "      --hover-bg-color: #434B5C;\n",
              "      --hover-fill-color: #FFFFFF;\n",
              "      --disabled-bg-color: #3B4455;\n",
              "      --disabled-fill-color: #666;\n",
              "  }\n",
              "\n",
              "  .colab-df-quickchart {\n",
              "    background-color: var(--bg-color);\n",
              "    border: none;\n",
              "    border-radius: 50%;\n",
              "    cursor: pointer;\n",
              "    display: none;\n",
              "    fill: var(--fill-color);\n",
              "    height: 32px;\n",
              "    padding: 0;\n",
              "    width: 32px;\n",
              "  }\n",
              "\n",
              "  .colab-df-quickchart:hover {\n",
              "    background-color: var(--hover-bg-color);\n",
              "    box-shadow: 0 1px 2px rgba(60, 64, 67, 0.3), 0 1px 3px 1px rgba(60, 64, 67, 0.15);\n",
              "    fill: var(--button-hover-fill-color);\n",
              "  }\n",
              "\n",
              "  .colab-df-quickchart-complete:disabled,\n",
              "  .colab-df-quickchart-complete:disabled:hover {\n",
              "    background-color: var(--disabled-bg-color);\n",
              "    fill: var(--disabled-fill-color);\n",
              "    box-shadow: none;\n",
              "  }\n",
              "\n",
              "  .colab-df-spinner {\n",
              "    border: 2px solid var(--fill-color);\n",
              "    border-color: transparent;\n",
              "    border-bottom-color: var(--fill-color);\n",
              "    animation:\n",
              "      spin 1s steps(1) infinite;\n",
              "  }\n",
              "\n",
              "  @keyframes spin {\n",
              "    0% {\n",
              "      border-color: transparent;\n",
              "      border-bottom-color: var(--fill-color);\n",
              "      border-left-color: var(--fill-color);\n",
              "    }\n",
              "    20% {\n",
              "      border-color: transparent;\n",
              "      border-left-color: var(--fill-color);\n",
              "      border-top-color: var(--fill-color);\n",
              "    }\n",
              "    30% {\n",
              "      border-color: transparent;\n",
              "      border-left-color: var(--fill-color);\n",
              "      border-top-color: var(--fill-color);\n",
              "      border-right-color: var(--fill-color);\n",
              "    }\n",
              "    40% {\n",
              "      border-color: transparent;\n",
              "      border-right-color: var(--fill-color);\n",
              "      border-top-color: var(--fill-color);\n",
              "    }\n",
              "    60% {\n",
              "      border-color: transparent;\n",
              "      border-right-color: var(--fill-color);\n",
              "    }\n",
              "    80% {\n",
              "      border-color: transparent;\n",
              "      border-right-color: var(--fill-color);\n",
              "      border-bottom-color: var(--fill-color);\n",
              "    }\n",
              "    90% {\n",
              "      border-color: transparent;\n",
              "      border-bottom-color: var(--fill-color);\n",
              "    }\n",
              "  }\n",
              "</style>\n",
              "\n",
              "  <script>\n",
              "    async function quickchart(key) {\n",
              "      const quickchartButtonEl =\n",
              "        document.querySelector('#' + key + ' button');\n",
              "      quickchartButtonEl.disabled = true;  // To prevent multiple clicks.\n",
              "      quickchartButtonEl.classList.add('colab-df-spinner');\n",
              "      try {\n",
              "        const charts = await google.colab.kernel.invokeFunction(\n",
              "            'suggestCharts', [key], {});\n",
              "      } catch (error) {\n",
              "        console.error('Error during call to suggestCharts:', error);\n",
              "      }\n",
              "      quickchartButtonEl.classList.remove('colab-df-spinner');\n",
              "      quickchartButtonEl.classList.add('colab-df-quickchart-complete');\n",
              "    }\n",
              "    (() => {\n",
              "      let quickchartButtonEl =\n",
              "        document.querySelector('#df-aec7d1ac-cb95-4545-8e00-c249475d505b button');\n",
              "      quickchartButtonEl.style.display =\n",
              "        google.colab.kernel.accessAllowed ? 'block' : 'none';\n",
              "    })();\n",
              "  </script>\n",
              "</div>\n",
              "    </div>\n",
              "  </div>\n"
            ],
            "application/vnd.google.colaboratory.intrinsic+json": {
              "type": "dataframe",
              "variable_name": "inspection"
            }
          },
          "metadata": {},
          "execution_count": 2
        }
      ]
    },
    {
      "cell_type": "markdown",
      "metadata": {
        "id": "NyXwU37Q_rzw"
      },
      "source": [
        "# Data Cleaning (this can be a direct copy of Milestone 1, and any additional steps)"
      ]
    },
    {
      "cell_type": "code",
      "source": [
        "# Dropping unnecessary or redundant columns:\n",
        "drop_columns = ['PHONE', 'BUILDING', 'RECORD DATE', 'Community Board', 'Council District', 'Census Tract', 'BIN', 'NTA', 'Location Point1']\n",
        "\n",
        "drop_columns = [col for col in drop_columns if col in inspection.columns]\n",
        "inspection.drop(columns=drop_columns, inplace=True)\n",
        "\n",
        "# Dropping Uninspected restaurants rows (1/1/1900 is uninspected)\n",
        "inspection['INSPECTION DATE'] = pd.to_datetime(inspection['INSPECTION DATE'], errors='coerce')\n",
        "# Drop rows where 'INSPECTION DATE' is missing or 01/01/1900\n",
        "inspection = inspection[(inspection['INSPECTION DATE'].notna()) & (inspection['INSPECTION DATE'] != pd.Timestamp('1900-01-01'))]\n",
        "\n",
        "# Ensure that no rows were missed\n",
        "invalid_dates = (inspection['INSPECTION DATE'] == pd.Timestamp('1900-01-01')).sum()\n",
        "invalid_dates # Yay!!\n",
        "\n",
        "# Dropping columns with same duplicates\n",
        "column_unique = ['CAMIS', 'INSPECTION DATE', 'BORO', 'STREET', 'CUISINE DESCRIPTION', 'ACTION', 'VIOLATION CODE', 'VIOLATION DESCRIPTION', 'SCORE', 'GRADE', 'GRADE DATE']\n",
        "inspection_cleaned = inspection.drop_duplicates(subset=column_unique)\n",
        "\n",
        "inspection_cleaned.columns"
      ],
      "metadata": {
        "id": "efRTzDRPD5ei",
        "colab": {
          "base_uri": "https://localhost:8080/"
        },
        "outputId": "a7f760d3-60ae-4e30-e026-8feb5d288624"
      },
      "execution_count": 9,
      "outputs": [
        {
          "output_type": "execute_result",
          "data": {
            "text/plain": [
              "Index(['CAMIS', 'DBA', 'BORO', 'STREET', 'ZIPCODE', 'CUISINE DESCRIPTION',\n",
              "       'INSPECTION DATE', 'ACTION', 'VIOLATION CODE', 'VIOLATION DESCRIPTION',\n",
              "       'CRITICAL FLAG', 'SCORE', 'GRADE', 'GRADE DATE', 'INSPECTION TYPE',\n",
              "       'Latitude', 'Longitude', 'BBL'],\n",
              "      dtype='object')"
            ]
          },
          "metadata": {},
          "execution_count": 9
        }
      ]
    },
    {
      "cell_type": "markdown",
      "source": [
        "# Hypothesis Testing\n",
        "\n",
        "Remember that null/inconclusive results are still valid results!"
      ],
      "metadata": {
        "id": "N1IutqTCEXyp"
      }
    },
    {
      "cell_type": "markdown",
      "metadata": {
        "id": "qRJX6RZu_rz2"
      },
      "source": [
        "Minimum of two hypothesis tests per group member (can replace 1 per person with a regression model). If anyone in the group chooses to do only regression models, they must do at least 3 models.\n",
        "\n",
        "You are free to explore \"fancy\" models/tests that use more advanced statistical/econometric knowledge outside the purview of this class for your own interest; however, you will be evaluated on the models built in the scope of the class. This is to guarantee a level playing ground between those who have that experience and those who may just be getting exposed to statistical modeling. The goal of this project isn't necessarily to find the optimum model or most precise test results but to apply what you learned from this class to data that you are interested in!\n",
        "\n",
        "<font color = \"red\">Remember to hit all these points while testing your hypothesis or constructing your regression model. </font> *Please also write the name of the partner(s) who were mainly responsible for each hypothesis.*"
      ]
    },
    {
      "cell_type": "markdown",
      "metadata": {
        "id": "bCpkVLDp_rz3"
      },
      "source": [
        "* **Include the motivating visualization for your hypothesis test/regression**\n",
        "\n",
        "* Hypothesis Tests:\n",
        "\n",
        "  - What is your null hypothesis? Explicitly incorporate your test statistic into both hypotheses. That is, say something like $\\mu_{Age 1} = \\mu_{Age 2}$ or \"Mean Age of Group 1 - Mean Age of Group 2 = 0\", not just \"there's no difference in average age.\"\n",
        "\n",
        "  - What is your alternative hypothesis? If you're choosing a 1-tailed test, give some justification of why you're expecting this direction of difference or why you're only interested in that direction.\n",
        "\n",
        "  - What statistic are you picking in order to assess the validity of the null hypothesis?\n",
        "\n",
        "  - What is the observed value of the statistic?\n",
        "\n",
        "  - What significance level are you using?\n",
        "\n",
        "  - Histogram of hypothesis test simulations\n",
        "\n",
        "  - Give the p-value\n",
        "\n",
        "* Regression Models:\n",
        "  - Correlation matrix, with correlations between variables of interest selected out\n",
        "\n",
        "  - A brief \"hypothesis\" (e.g., \"We think that `X` variable is a strong predictor of `Y`\")\n",
        "\n",
        "  - Test/train split\n",
        "\n",
        "  - Motivating visualization (will likely be a scatter plot of some form)\n",
        "\n",
        "  - Model evaluation ((R)MSE, residuals, etc.)\n",
        "    - Include residual plot\n",
        "\n",
        "\n",
        "* Short conclusion/interpretation of conclusion. Do your findings make sense, in the context of your knowledge of the topic?"
      ]
    },
    {
      "cell_type": "markdown",
      "metadata": {
        "id": "fDwEpYR__rz1"
      },
      "source": [
        "## Hypothesis 1 (can copy from Milestone 2)\n",
        "# **The health inspection score for Staten Island restaurants is significantly lower than for other borough restaurants.**\n",
        "\n",
        "**(WINNY)**"
      ]
    },
    {
      "cell_type": "markdown",
      "source": [
        "Null hypothesis: The (mean health inspection score of Staten Island restaurants) - (mean health inspection score of all other borough restaurants) = 0.\n",
        "\n",
        "Alternate hypothesis: The (mean health inspection score for Staten Island restaurants) - (mean inspection score of all other borough restaurants) < 0.\n",
        "\n",
        "The statistic we use is the (mean of the Staten Island restaurants) - (mean of all other restaurants)\n",
        "\n",
        "We are using the 1-tailed test for this hypothesis because in our initial analysis in the previous milestone where we ran a simulation test, we found that Staten Island restaurants had a significantly lower mean health inspection score compared to other boroughs. So it would make sense to test for that in this case."
      ],
      "metadata": {
        "id": "W4VTDjl1b-fI"
      }
    },
    {
      "cell_type": "code",
      "source": [
        "observed_statistic = np.mean(inspection_cleaned[inspection_cleaned[\"BORO\"] == \"Staten Island\"][\"SCORE\"]) - np.mean(\n",
        "    inspection_cleaned[inspection_cleaned[\"BORO\"] != \"Staten Island\"][\"SCORE\"])\n",
        "\n",
        "observed_statistic"
      ],
      "metadata": {
        "colab": {
          "base_uri": "https://localhost:8080/"
        },
        "id": "MA0U9Ar5fZpx",
        "outputId": "57b6ccbb-7735-4401-f487-e31361dea7b5"
      },
      "execution_count": 23,
      "outputs": [
        {
          "output_type": "execute_result",
          "data": {
            "text/plain": [
              "-2.992656802230414"
            ]
          },
          "metadata": {},
          "execution_count": 23
        }
      ]
    },
    {
      "cell_type": "markdown",
      "source": [
        "The mean health inspection score of Staten Island restaurants was 3.0047 points lower than the mean of the inspection score of all other boroughs."
      ],
      "metadata": {
        "id": "kBykVRRwfnPI"
      }
    },
    {
      "cell_type": "code",
      "source": [
        "num_simulations = 10000\n",
        "\n",
        "# Simulated scores\n",
        "scores = np.random.normal(loc=85, scale=10, size= num_simulations)\n",
        "boroughs = np.repeat(['Manhattan', 'Brooklyn', 'Queens', 'Bronx', 'Staten Island'], 2000)\n",
        "\n",
        "# Simulation under H0\n",
        "simulated_statistics = []\n",
        "\n",
        "for _ in np.arange(10000):\n",
        "    np.random.shuffle(boroughs)\n",
        "    inspection_simulated = pd.DataFrame({\"BORO\" : boroughs, \"SCORE\" : scores})\n",
        "    simulated_statistic = np.mean(inspection_simulated[inspection_simulated[\"BORO\"] == \"Staten Island\"][\"SCORE\"]) - np.mean(\n",
        "    inspection_simulated[inspection_simulated[\"BORO\"] != \"Staten Island\"][\"SCORE\"])\n",
        "    simulated_statistics.append(simulated_statistic)\n",
        "\n",
        "p_value = np.sum(np.array(simulated_statistics) <= observed_statistic) / num_simulations\n",
        "\n",
        "# Plot\n",
        "plt.hist(simulated_statistics, bins=30, label='Simulated')\n",
        "plt.axvline(observed_statistic, color='r', linestyle='dashed', label='Observed Statistic')\n",
        "plt.legend()\n",
        "plt.title('Distribution of Test Statistic Under the H0')\n",
        "plt.xlabel('Difference in Means between Staten Island and other Boros')\n",
        "plt.ylabel('Frequency')\n",
        "plt.show()\n",
        "\n",
        "print(observed_statistic)\n",
        "print(p_value)"
      ],
      "metadata": {
        "colab": {
          "base_uri": "https://localhost:8080/",
          "height": 507
        },
        "id": "UEi-1MkjfVI9",
        "outputId": "6a88995a-2cc7-45c6-9b89-fc5cf44fa911"
      },
      "execution_count": 24,
      "outputs": [
        {
          "output_type": "display_data",
          "data": {
            "text/plain": [
              "<Figure size 640x480 with 1 Axes>"
            ],
            "image/png": "[encoded data removed]"
          },
          "metadata": {}
        },
        {
          "output_type": "stream",
          "name": "stdout",
          "text": [
            "-2.992656802230414\n",
            "0.0\n"
          ]
        }
      ]
    },
    {
      "cell_type": "markdown",
      "source": [
        "The p-value is very low (0.0). We will use a significance level of 0.05, and of course the p-value is lower than that. Therefore, we reject the null hypothesis. The mean health inspection score of Staten Island is indeed lower than the mean inspection score of all other boroughs."
      ],
      "metadata": {
        "id": "rbnQMEAGm2Qo"
      }
    },
    {
      "cell_type": "markdown",
      "metadata": {
        "id": "vtjFJ-47_rz7"
      },
      "source": [
        "## Hypothesis 2"
      ]
    },
    {
      "cell_type": "markdown",
      "source": [
        "We speculate that the Bronx and Manhattan would have different types of restaurants. We assume that all restaurants go through routine health inspections, so the number of restaurants inspected for each cuisine will give us a general sense of the distribution of different cuisines in the restaurant scene for each borough.\n",
        "\n",
        "Null hypo: The tvd of the Bronx cuisines and Manhattan cuisines is 0, meaning they have the same distribution of cuisines of investigated restaurants.\n",
        "\n",
        "Alternative hypo: The tvd of the Bronx cuisines and Manhattan cuisines is larger than 0, meaning that they have a different distribution of cuisines of investigated restaurants.\n",
        "\n",
        "The statistic we use is tvd.\n",
        "\n",
        "**(NORA)**"
      ],
      "metadata": {
        "id": "kar7fRf0qTLT"
      }
    },
    {
      "cell_type": "code",
      "source": [
        "def tvd(dist1, dist2):\n",
        "    return 0.5 * sum(np.abs(dist1 - dist2))"
      ],
      "metadata": {
        "id": "NasjBht1pRcJ"
      },
      "execution_count": null,
      "outputs": []
    },
    {
      "cell_type": "code",
      "source": [
        "inspection_bm = inspection_cleaned.pivot_table(index = 'CUISINE DESCRIPTION', columns = 'BORO', aggfunc = 'count', values = 'BBL', fill_value = 0)\n",
        "\n",
        "inspection_bm"
      ],
      "metadata": {
        "colab": {
          "base_uri": "https://localhost:8080/",
          "height": 455
        },
        "id": "ewWRNMfJtT0c",
        "outputId": "81629272-bfec-431f-ffcc-f8cc2219632a"
      },
      "execution_count": null,
      "outputs": [
        {
          "output_type": "execute_result",
          "data": {
            "text/plain": [
              "BORO                 Bronx  Brooklyn  Manhattan  Queens  Staten Island\n",
              "CUISINE DESCRIPTION                                                   \n",
              "Afghan                  11         7         22     135              0\n",
              "African                299       297        290      31             40\n",
              "American              2307      8264      17608    6666           1487\n",
              "Armenian                 2        11         30       0              0\n",
              "Asian/Asian Fusion      67       754       1653    1262            113\n",
              "...                    ...       ...        ...     ...            ...\n",
              "Tex-Mex                242       773        955     466            103\n",
              "Thai                    71       940       1503     741             70\n",
              "Turkish                  0       369        255      66             35\n",
              "Vegan                    9       224        357      29              0\n",
              "Vegetarian              27       233        256      99              6\n",
              "\n",
              "[89 rows x 5 columns]"
            ],
            "text/html": [
              "\n",
              "  <div id=\"df-e58a5756-3dd3-4b45-bac0-5cc7ffbd0714\" class=\"colab-df-container\">\n",
              "    <div>\n",
              "<style scoped>\n",
              "    .dataframe tbody tr th:only-of-type {\n",
              "        vertical-align: middle;\n",
              "    }\n",
              "\n",
              "    .dataframe tbody tr th {\n",
              "        vertical-align: top;\n",
              "    }\n",
              "\n",
              "    .dataframe thead th {\n",
              "        text-align: right;\n",
              "    }\n",
              "</style>\n",
              "<table border=\"1\" class=\"dataframe\">\n",
              "  <thead>\n",
              "    <tr style=\"text-align: right;\">\n",
              "      <th>BORO</th>\n",
              "      <th>Bronx</th>\n",
              "      <th>Brooklyn</th>\n",
              "      <th>Manhattan</th>\n",
              "      <th>Queens</th>\n",
              "      <th>Staten Island</th>\n",
              "    </tr>\n",
              "    <tr>\n",
              "      <th>CUISINE DESCRIPTION</th>\n",
              "      <th></th>\n",
              "      <th></th>\n",
              "      <th></th>\n",
              "      <th></th>\n",
              "      <th></th>\n",
              "    </tr>\n",
              "  </thead>\n",
              "  <tbody>\n",
              "    <tr>\n",
              "      <th>Afghan</th>\n",
              "      <td>11</td>\n",
              "      <td>7</td>\n",
              "      <td>22</td>\n",
              "      <td>135</td>\n",
              "      <td>0</td>\n",
              "    </tr>\n",
              "    <tr>\n",
              "      <th>African</th>\n",
              "      <td>299</td>\n",
              "      <td>297</td>\n",
              "      <td>290</td>\n",
              "      <td>31</td>\n",
              "      <td>40</td>\n",
              "    </tr>\n",
              "    <tr>\n",
              "      <th>American</th>\n",
              "      <td>2307</td>\n",
              "      <td>8264</td>\n",
              "      <td>17608</td>\n",
              "      <td>6666</td>\n",
              "      <td>1487</td>\n",
              "    </tr>\n",
              "    <tr>\n",
              "      <th>Armenian</th>\n",
              "      <td>2</td>\n",
              "      <td>11</td>\n",
              "      <td>30</td>\n",
              "      <td>0</td>\n",
              "      <td>0</td>\n",
              "    </tr>\n",
              "    <tr>\n",
              "      <th>Asian/Asian Fusion</th>\n",
              "      <td>67</td>\n",
              "      <td>754</td>\n",
              "      <td>1653</td>\n",
              "      <td>1262</td>\n",
              "      <td>113</td>\n",
              "    </tr>\n",
              "    <tr>\n",
              "      <th>...</th>\n",
              "      <td>...</td>\n",
              "      <td>...</td>\n",
              "      <td>...</td>\n",
              "      <td>...</td>\n",
              "      <td>...</td>\n",
              "    </tr>\n",
              "    <tr>\n",
              "      <th>Tex-Mex</th>\n",
              "      <td>242</td>\n",
              "      <td>773</td>\n",
              "      <td>955</td>\n",
              "      <td>466</td>\n",
              "      <td>103</td>\n",
              "    </tr>\n",
              "    <tr>\n",
              "      <th>Thai</th>\n",
              "      <td>71</td>\n",
              "      <td>940</td>\n",
              "      <td>1503</td>\n",
              "      <td>741</td>\n",
              "      <td>70</td>\n",
              "    </tr>\n",
              "    <tr>\n",
              "      <th>Turkish</th>\n",
              "      <td>0</td>\n",
              "      <td>369</td>\n",
              "      <td>255</td>\n",
              "      <td>66</td>\n",
              "      <td>35</td>\n",
              "    </tr>\n",
              "    <tr>\n",
              "      <th>Vegan</th>\n",
              "      <td>9</td>\n",
              "      <td>224</td>\n",
              "      <td>357</td>\n",
              "      <td>29</td>\n",
              "      <td>0</td>\n",
              "    </tr>\n",
              "    <tr>\n",
              "      <th>Vegetarian</th>\n",
              "      <td>27</td>\n",
              "      <td>233</td>\n",
              "      <td>256</td>\n",
              "      <td>99</td>\n",
              "      <td>6</td>\n",
              "    </tr>\n",
              "  </tbody>\n",
              "</table>\n",
              "<p>89 rows × 5 columns</p>\n",
              "</div>\n",
              "    <div class=\"colab-df-buttons\">\n",
              "\n",
              "  <div class=\"colab-df-container\">\n",
              "    <button class=\"colab-df-convert\" onclick=\"convertToInteractive('df-e58a5756-3dd3-4b45-bac0-5cc7ffbd0714')\"\n",
              "            title=\"Convert this dataframe to an interactive table.\"\n",
              "            style=\"display:none;\">\n",
              "\n",
              "  <svg xmlns=\"http://www.w3.org/2000/svg\" height=\"24px\" viewBox=\"0 -960 960 960\">\n",
              "    <path d=\"M120-120v-720h720v720H120Zm60-500h600v-160H180v160Zm220 220h160v-160H400v160Zm0 220h160v-160H400v160ZM180-400h160v-160H180v160Zm440 0h160v-160H620v160ZM180-180h160v-160H180v160Zm440 0h160v-160H620v160Z\"/>\n",
              "  </svg>\n",
              "    </button>\n",
              "\n",
              "  <style>\n",
              "    .colab-df-container {\n",
              "      display:flex;\n",
              "      gap: 12px;\n",
              "    }\n",
              "\n",
              "    .colab-df-convert {\n",
              "      background-color: #E8F0FE;\n",
              "      border: none;\n",
              "      border-radius: 50%;\n",
              "      cursor: pointer;\n",
              "      display: none;\n",
              "      fill: #1967D2;\n",
              "      height: 32px;\n",
              "      padding: 0 0 0 0;\n",
              "      width: 32px;\n",
              "    }\n",
              "\n",
              "    .colab-df-convert:hover {\n",
              "      background-color: #E2EBFA;\n",
              "      box-shadow: 0px 1px 2px rgba(60, 64, 67, 0.3), 0px 1px 3px 1px rgba(60, 64, 67, 0.15);\n",
              "      fill: #174EA6;\n",
              "    }\n",
              "\n",
              "    .colab-df-buttons div {\n",
              "      margin-bottom: 4px;\n",
              "    }\n",
              "\n",
              "    [theme=dark] .colab-df-convert {\n",
              "      background-color: #3B4455;\n",
              "      fill: #D2E3FC;\n",
              "    }\n",
              "\n",
              "    [theme=dark] .colab-df-convert:hover {\n",
              "      background-color: #434B5C;\n",
              "      box-shadow: 0px 1px 3px 1px rgba(0, 0, 0, 0.15);\n",
              "      filter: drop-shadow(0px 1px 2px rgba(0, 0, 0, 0.3));\n",
              "      fill: #FFFFFF;\n",
              "    }\n",
              "  </style>\n",
              "\n",
              "    <script>\n",
              "      const buttonEl =\n",
              "        document.querySelector('#df-e58a5756-3dd3-4b45-bac0-5cc7ffbd0714 button.colab-df-convert');\n",
              "      buttonEl.style.display =\n",
              "        google.colab.kernel.accessAllowed ? 'block' : 'none';\n",
              "\n",
              "      async function convertToInteractive(key) {\n",
              "        const element = document.querySelector('#df-e58a5756-3dd3-4b45-bac0-5cc7ffbd0714');\n",
              "        const dataTable =\n",
              "          await google.colab.kernel.invokeFunction('convertToInteractive',\n",
              "                                                    [key], {});\n",
              "        if (!dataTable) return;\n",
              "\n",
              "        const docLinkHtml = 'Like what you see? Visit the ' +\n",
              "          '<a target=\"_blank\" href=https://colab.research.google.com/notebooks/data_table.ipynb>data table notebook</a>'\n",
              "          + ' to learn more about interactive tables.';\n",
              "        element.innerHTML = '';\n",
              "        dataTable['output_type'] = 'display_data';\n",
              "        await google.colab.output.renderOutput(dataTable, element);\n",
              "        const docLink = document.createElement('div');\n",
              "        docLink.innerHTML = docLinkHtml;\n",
              "        element.appendChild(docLink);\n",
              "      }\n",
              "    </script>\n",
              "  </div>\n",
              "\n",
              "\n",
              "<div id=\"df-05482507-72e8-44ea-990c-5a64bb58b16f\">\n",
              "  <button class=\"colab-df-quickchart\" onclick=\"quickchart('df-05482507-72e8-44ea-990c-5a64bb58b16f')\"\n",
              "            title=\"Suggest charts\"\n",
              "            style=\"display:none;\">\n",
              "\n",
              "<svg xmlns=\"http://www.w3.org/2000/svg\" height=\"24px\"viewBox=\"0 0 24 24\"\n",
              "     width=\"24px\">\n",
              "    <g>\n",
              "        <path d=\"M19 3H5c-1.1 0-2 .9-2 2v14c0 1.1.9 2 2 2h14c1.1 0 2-.9 2-2V5c0-1.1-.9-2-2-2zM9 17H7v-7h2v7zm4 0h-2V7h2v10zm4 0h-2v-4h2v4z\"/>\n",
              "    </g>\n",
              "</svg>\n",
              "  </button>\n",
              "\n",
              "<style>\n",
              "  .colab-df-quickchart {\n",
              "      --bg-color: #E8F0FE;\n",
              "      --fill-color: #1967D2;\n",
              "      --hover-bg-color: #E2EBFA;\n",
              "      --hover-fill-color: #174EA6;\n",
              "      --disabled-fill-color: #AAA;\n",
              "      --disabled-bg-color: #DDD;\n",
              "  }\n",
              "\n",
              "  [theme=dark] .colab-df-quickchart {\n",
              "      --bg-color: #3B4455;\n",
              "      --fill-color: #D2E3FC;\n",
              "      --hover-bg-color: #434B5C;\n",
              "      --hover-fill-color: #FFFFFF;\n",
              "      --disabled-bg-color: #3B4455;\n",
              "      --disabled-fill-color: #666;\n",
              "  }\n",
              "\n",
              "  .colab-df-quickchart {\n",
              "    background-color: var(--bg-color);\n",
              "    border: none;\n",
              "    border-radius: 50%;\n",
              "    cursor: pointer;\n",
              "    display: none;\n",
              "    fill: var(--fill-color);\n",
              "    height: 32px;\n",
              "    padding: 0;\n",
              "    width: 32px;\n",
              "  }\n",
              "\n",
              "  .colab-df-quickchart:hover {\n",
              "    background-color: var(--hover-bg-color);\n",
              "    box-shadow: 0 1px 2px rgba(60, 64, 67, 0.3), 0 1px 3px 1px rgba(60, 64, 67, 0.15);\n",
              "    fill: var(--button-hover-fill-color);\n",
              "  }\n",
              "\n",
              "  .colab-df-quickchart-complete:disabled,\n",
              "  .colab-df-quickchart-complete:disabled:hover {\n",
              "    background-color: var(--disabled-bg-color);\n",
              "    fill: var(--disabled-fill-color);\n",
              "    box-shadow: none;\n",
              "  }\n",
              "\n",
              "  .colab-df-spinner {\n",
              "    border: 2px solid var(--fill-color);\n",
              "    border-color: transparent;\n",
              "    border-bottom-color: var(--fill-color);\n",
              "    animation:\n",
              "      spin 1s steps(1) infinite;\n",
              "  }\n",
              "\n",
              "  @keyframes spin {\n",
              "    0% {\n",
              "      border-color: transparent;\n",
              "      border-bottom-color: var(--fill-color);\n",
              "      border-left-color: var(--fill-color);\n",
              "    }\n",
              "    20% {\n",
              "      border-color: transparent;\n",
              "      border-left-color: var(--fill-color);\n",
              "      border-top-color: var(--fill-color);\n",
              "    }\n",
              "    30% {\n",
              "      border-color: transparent;\n",
              "      border-left-color: var(--fill-color);\n",
              "      border-top-color: var(--fill-color);\n",
              "      border-right-color: var(--fill-color);\n",
              "    }\n",
              "    40% {\n",
              "      border-color: transparent;\n",
              "      border-right-color: var(--fill-color);\n",
              "      border-top-color: var(--fill-color);\n",
              "    }\n",
              "    60% {\n",
              "      border-color: transparent;\n",
              "      border-right-color: var(--fill-color);\n",
              "    }\n",
              "    80% {\n",
              "      border-color: transparent;\n",
              "      border-right-color: var(--fill-color);\n",
              "      border-bottom-color: var(--fill-color);\n",
              "    }\n",
              "    90% {\n",
              "      border-color: transparent;\n",
              "      border-bottom-color: var(--fill-color);\n",
              "    }\n",
              "  }\n",
              "</style>\n",
              "\n",
              "  <script>\n",
              "    async function quickchart(key) {\n",
              "      const quickchartButtonEl =\n",
              "        document.querySelector('#' + key + ' button');\n",
              "      quickchartButtonEl.disabled = true;  // To prevent multiple clicks.\n",
              "      quickchartButtonEl.classList.add('colab-df-spinner');\n",
              "      try {\n",
              "        const charts = await google.colab.kernel.invokeFunction(\n",
              "            'suggestCharts', [key], {});\n",
              "      } catch (error) {\n",
              "        console.error('Error during call to suggestCharts:', error);\n",
              "      }\n",
              "      quickchartButtonEl.classList.remove('colab-df-spinner');\n",
              "      quickchartButtonEl.classList.add('colab-df-quickchart-complete');\n",
              "    }\n",
              "    (() => {\n",
              "      let quickchartButtonEl =\n",
              "        document.querySelector('#df-05482507-72e8-44ea-990c-5a64bb58b16f button');\n",
              "      quickchartButtonEl.style.display =\n",
              "        google.colab.kernel.accessAllowed ? 'block' : 'none';\n",
              "    })();\n",
              "  </script>\n",
              "</div>\n",
              "    </div>\n",
              "  </div>\n"
            ],
            "application/vnd.google.colaboratory.intrinsic+json": {
              "type": "dataframe",
              "variable_name": "inspection_bm",
              "summary": "{\n  \"name\": \"inspection_bm\",\n  \"rows\": 89,\n  \"fields\": [\n    {\n      \"column\": \"CUISINE DESCRIPTION\",\n      \"properties\": {\n        \"dtype\": \"string\",\n        \"num_unique_values\": 89,\n        \"samples\": [\n          \"Indian\",\n          \"Latin American\",\n          \"English\"\n        ],\n        \"semantic_type\": \"\",\n        \"description\": \"\"\n      }\n    },\n    {\n      \"column\": \"Bronx\",\n      \"properties\": {\n        \"dtype\": \"number\",\n        \"std\": 487,\n        \"min\": 0,\n        \"max\": 2307,\n        \"num_unique_values\": 50,\n        \"samples\": [\n          1316,\n          26,\n          12\n        ],\n        \"semantic_type\": \"\",\n        \"description\": \"\"\n      }\n    },\n    {\n      \"column\": \"Brooklyn\",\n      \"properties\": {\n        \"dtype\": \"number\",\n        \"std\": 1343,\n        \"min\": 0,\n        \"max\": 8264,\n        \"num_unique_values\": 77,\n        \"samples\": [\n          754,\n          85,\n          0\n        ],\n        \"semantic_type\": \"\",\n        \"description\": \"\"\n      }\n    },\n    {\n      \"column\": \"Manhattan\",\n      \"properties\": {\n        \"dtype\": \"number\",\n        \"std\": 2201,\n        \"min\": 0,\n        \"max\": 17608,\n        \"num_unique_values\": 80,\n        \"samples\": [\n          19,\n          22,\n          14\n        ],\n        \"semantic_type\": \"\",\n        \"description\": \"\"\n      }\n    },\n    {\n      \"column\": \"Queens\",\n      \"properties\": {\n        \"dtype\": \"number\",\n        \"std\": 1210,\n        \"min\": 0,\n        \"max\": 7054,\n        \"num_unique_values\": 69,\n        \"samples\": [\n          107,\n          135,\n          140\n        ],\n        \"semantic_type\": \"\",\n        \"description\": \"\"\n      }\n    },\n    {\n      \"column\": \"Staten Island\",\n      \"properties\": {\n        \"dtype\": \"number\",\n        \"std\": 219,\n        \"min\": 0,\n        \"max\": 1487,\n        \"num_unique_values\": 42,\n        \"samples\": [\n          364,\n          15,\n          29\n        ],\n        \"semantic_type\": \"\",\n        \"description\": \"\"\n      }\n    }\n  ]\n}"
            }
          },
          "metadata": {},
          "execution_count": 11
        }
      ]
    },
    {
      "cell_type": "markdown",
      "source": [
        "Looks like the total variation distance between the cuisine distribution of the Bronx and the cuisine distribution of Manhattan is 31988.5.\n",
        "\n",
        "That is our observed statistic."
      ],
      "metadata": {
        "id": "c3p6qgtXx2dF"
      }
    },
    {
      "cell_type": "code",
      "source": [
        "num_bronx = sum(inspection_bm[\"Bronx\"])\n",
        "\n",
        "num_bronx"
      ],
      "metadata": {
        "colab": {
          "base_uri": "https://localhost:8080/"
        },
        "id": "z6D7TgZBwFZE",
        "outputId": "394828ef-191c-4ccc-c76e-34d30410ccca"
      },
      "execution_count": null,
      "outputs": [
        {
          "output_type": "execute_result",
          "data": {
            "text/plain": [
              "19501"
            ]
          },
          "metadata": {},
          "execution_count": 33
        }
      ]
    },
    {
      "cell_type": "code",
      "source": [
        "num_manhattan = sum(inspection_bm[\"Manhattan\"])\n",
        "\n",
        "num_manhattan"
      ],
      "metadata": {
        "colab": {
          "base_uri": "https://localhost:8080/"
        },
        "id": "MhMrIyHYwON2",
        "outputId": "53a4176e-7210-4e54-cd8e-ad047cfc98c9"
      },
      "execution_count": null,
      "outputs": [
        {
          "output_type": "execute_result",
          "data": {
            "text/plain": [
              "81462"
            ]
          },
          "metadata": {},
          "execution_count": 34
        }
      ]
    },
    {
      "cell_type": "code",
      "source": [
        "inspection_bm[\"Bronx\"] = inspection_bm[\"Bronx\"] / num_bronx\n",
        "inspection_bm[\"Manhattan\"] = inspection_bm[\"Manhattan\"] / num_manhattan\n",
        "bm_observed_stat = tvd(inspection_bm['Bronx'], inspection_bm['Manhattan'])\n",
        "\n",
        "bm_observed_stat"
      ],
      "metadata": {
        "colab": {
          "base_uri": "https://localhost:8080/"
        },
        "id": "YaOpUu8E0E9-",
        "outputId": "66af7f12-f9a6-4a3c-ce08-d257378538cc"
      },
      "execution_count": null,
      "outputs": [
        {
          "output_type": "execute_result",
          "data": {
            "text/plain": [
              "0.4210921222313117"
            ]
          },
          "metadata": {},
          "execution_count": 44
        }
      ]
    },
    {
      "cell_type": "code",
      "source": [
        "tvds = []\n",
        "repetitions = 1000\n",
        "for i in np.arange(repetitions):\n",
        "\n",
        "    #shuffle the dataframe up\n",
        "    shuffled_inspection = inspection_cleaned.sample(len(inspection_cleaned), replace=False)\n",
        "    #reset the index so that we can create our own little dataframe with the original column\n",
        "    #and shuffled column side by side\n",
        "    shuffled_inspection = shuffled_inspection.reset_index()\n",
        "\n",
        "    #create a new dataframe by taking the shuffled column and lining it up\n",
        "    permuted_inspection = pd.DataFrame({'boro': inspection_cleaned['BORO'], 'cuisines': inspection_cleaned['CUISINE DESCRIPTION'],\n",
        "                                    'shuffled_cuisines' : shuffled_inspection['CUISINE DESCRIPTION']})\n",
        "    permuted_boro_inspection = permuted_inspection.pivot_table(index='shuffled_cuisines',\n",
        "                                                          columns = 'boro', values = 'cuisines',\n",
        "                                                          aggfunc='count', fill_value=0)\n",
        "\n",
        "\n",
        "    permuted_boro_inspection['Bronx'] = permuted_boro_inspection['Bronx'] / num_bronx\n",
        "    permuted_boro_inspection['Manhattan'] = permuted_boro_inspection['Manhattan'] / num_manhattan\n",
        "\n",
        "    #compute the statistic (the tvd) in this case\n",
        "    current_tvd = tvd(permuted_boro_inspection['Bronx'], permuted_boro_inspection['Manhattan'])\n",
        "    tvds.append(current_tvd)\n",
        "\n",
        "# turning the list into an array for easier p-value calculation if needed\n",
        "tvds = np.array(tvds)"
      ],
      "metadata": {
        "id": "pGuXfw06uvtI"
      },
      "execution_count": null,
      "outputs": []
    },
    {
      "cell_type": "code",
      "source": [
        "# abbreviated title a bit because it was too long otherwise\n",
        "\n",
        "plt.hist(tvds, edgecolor = \"black\", label = \"Simulated\")\n",
        "plt.axvline(bm_observed_stat, linestyle = \"dashed\", color = \"red\", label = \"Observed Statistic\")\n",
        "plt.title(\"Dist. of simulated tvds of Cuisines of Inpsected Restaurants btwn. Bronx and Manhattan\")\n",
        "plt.xlabel(\"TVD\")\n",
        "plt.ylabel(\"Frequency\")\n",
        "plt.legend();"
      ],
      "metadata": {
        "colab": {
          "base_uri": "https://localhost:8080/",
          "height": 472
        },
        "id": "5ZTltpaRyQkd",
        "outputId": "cb8a7be1-d3ee-4da1-dc6f-b9a57caef426"
      },
      "execution_count": null,
      "outputs": [
        {
          "output_type": "display_data",
          "data": {
            "text/plain": [
              "<Figure size 640x480 with 1 Axes>"
            ],
            "image/png": "[encoded data removed]"
          },
          "metadata": {}
        }
      ]
    },
    {
      "cell_type": "markdown",
      "source": [
        "There was actually such a big difference between the observed statistic and the simulated values that I will have to make a separate histogram without the observed statistic line to properly show the distribution of the simulated TVD values."
      ],
      "metadata": {
        "id": "qa_uYJRH3Bb_"
      }
    },
    {
      "cell_type": "code",
      "source": [
        "plt.hist(tvds, edgecolor = \"black\")\n",
        "plt.title(\"Dist. of simulated tvds of Cuisines of Inpsected Restaurants btwn. Bronx and Manhattan\")\n",
        "plt.xlabel(\"TVD\")\n",
        "plt.ylabel(\"Frequency\");"
      ],
      "metadata": {
        "colab": {
          "base_uri": "https://localhost:8080/",
          "height": 472
        },
        "id": "QwS2VZy83J7I",
        "outputId": "941e1db0-5bf8-4918-9384-be86a14a511d"
      },
      "execution_count": null,
      "outputs": [
        {
          "output_type": "display_data",
          "data": {
            "text/plain": [
              "<Figure size 640x480 with 1 Axes>"
            ],
            "image/png": "[encoded data removed]"
          },
          "metadata": {}
        }
      ]
    },
    {
      "cell_type": "code",
      "source": [
        "p_value_bm = np.sum(np.array(tvds) >= bm_observed_stat) / repetitions\n",
        "\n",
        "p_value_bm"
      ],
      "metadata": {
        "colab": {
          "base_uri": "https://localhost:8080/"
        },
        "id": "N4in8gEa4I5a",
        "outputId": "900bb9b1-6854-4b27-90b2-b46d6a0fcd25"
      },
      "execution_count": null,
      "outputs": [
        {
          "output_type": "execute_result",
          "data": {
            "text/plain": [
              "0.0"
            ]
          },
          "metadata": {},
          "execution_count": 52
        }
      ]
    },
    {
      "cell_type": "markdown",
      "source": [
        "Again, significance level is 0.05, as is the standard for these kinds of datasets (not clinical). The p-value we got is < 0.001 or 0. So we reject the null hypothesis. The tvd of the Bronx cuisines and Manhattan cuisines is larger than 0, meaning that they have a different distribution of cuisines of investigated restaurants."
      ],
      "metadata": {
        "id": "Nnr8tXJI4YKz"
      }
    },
    {
      "cell_type": "markdown",
      "source": [
        "## Hypothesis 3"
      ],
      "metadata": {
        "id": "vAIRwZYdAQ-4"
      }
    },
    {
      "cell_type": "markdown",
      "source": [
        "To delve more into the different cuisines, we were interested in studying how Critical the inspection results were for restaurants of different cuisines. We are curious about the difference in critical health level of coffee/tea restaurants vs. pizza restaurants. Specifically, we want to look at restaurants that had critical inspection results. So our question is: which cuisine type tended to have more Critical health inspection results?\n",
        "\n",
        "Based on an analysis from milestone 1, we know that these two cuisine typess are both in the top 5 cuisines that are represented in this dataset. So we should have plenty of data.\n",
        "\n",
        "Null hypo: The abs((ratio of \"Critical\" level of coffee/tea restaurants) - (ratio of \"Critical\" level of pizza restaurants)) = 0, meaning neither cuisine type tended to have more Critical health inspection results than the other.\n",
        "\n",
        "Alternative hypo: The abs((ratio of \"Critical\" level of coffee/tea restaurants) - (ratio of \"Critical\" level of pizza restaurants)) =/= 0, meaning one cuisine type tended to have more Critical health inspection results than the other.\n",
        "\n",
        "The statistic we use is abs((ratio of \"Critical\" level of coffee/tea restaurants) - (ratio of \"Critical\" level of pizza restaurants))\n",
        "\n",
        "**(NORA)**"
      ],
      "metadata": {
        "id": "rXmGXOWo5EB4"
      }
    },
    {
      "cell_type": "code",
      "source": [
        "critical = inspection_cleaned.pivot_table(index = \"CRITICAL FLAG\", columns = 'CUISINE DESCRIPTION', aggfunc = 'count', values = 'BBL', fill_value = 0)\n",
        "\n",
        "critical"
      ],
      "metadata": {
        "colab": {
          "base_uri": "https://localhost:8080/",
          "height": 276
        },
        "id": "91J9LqEYIglT",
        "outputId": "c50f6dff-366c-414c-f7a7-7f909705d22e"
      },
      "execution_count": null,
      "outputs": [
        {
          "output_type": "execute_result",
          "data": {
            "text/plain": [
              "CUISINE DESCRIPTION  Afghan  African  American  Armenian  Asian/Asian Fusion  \\\n",
              "CRITICAL FLAG                                                                  \n",
              "Critical                 88      561     19691        24                2240   \n",
              "Not Applicable            4       14       521         0                  33   \n",
              "Not Critical             83      382     16120        19                1576   \n",
              "\n",
              "CUISINE DESCRIPTION  Australian  Bagels/Pretzels  Bakery Products/Desserts  \\\n",
              "CRITICAL FLAG                                                                \n",
              "Critical                    145             1232                      4748   \n",
              "Not Applicable                4               12                        60   \n",
              "Not Critical                130              942                      3895   \n",
              "\n",
              "CUISINE DESCRIPTION  Bangladeshi  Barbecue  ...  Southeast Asian  \\\n",
              "CRITICAL FLAG                               ...                    \n",
              "Critical                     532       303  ...              592   \n",
              "Not Applicable                 4        15  ...                7   \n",
              "Not Critical                 324       239  ...              407   \n",
              "\n",
              "CUISINE DESCRIPTION  Southwestern  Spanish  Steakhouse  Tapas  Tex-Mex  Thai  \\\n",
              "CRITICAL FLAG                                                                  \n",
              "Critical                        9     3549         370    146     1222  1898   \n",
              "Not Applicable                  1       75          10      5       35    12   \n",
              "Not Critical                   12     2582         282    101     1282  1415   \n",
              "\n",
              "CUISINE DESCRIPTION  Turkish  Vegan  Vegetarian  \n",
              "CRITICAL FLAG                                    \n",
              "Critical                 392    346         329  \n",
              "Not Applicable             6      5           4  \n",
              "Not Critical             327    268         288  \n",
              "\n",
              "[3 rows x 89 columns]"
            ],
            "text/html": [
              "\n",
              "  <div id=\"df-bb1d8796-ffe3-4183-abfd-b427ba2c3c2f\" class=\"colab-df-container\">\n",
              "    <div>\n",
              "<style scoped>\n",
              "    .dataframe tbody tr th:only-of-type {\n",
              "        vertical-align: middle;\n",
              "    }\n",
              "\n",
              "    .dataframe tbody tr th {\n",
              "        vertical-align: top;\n",
              "    }\n",
              "\n",
              "    .dataframe thead th {\n",
              "        text-align: right;\n",
              "    }\n",
              "</style>\n",
              "<table border=\"1\" class=\"dataframe\">\n",
              "  <thead>\n",
              "    <tr style=\"text-align: right;\">\n",
              "      <th>CUISINE DESCRIPTION</th>\n",
              "      <th>Afghan</th>\n",
              "      <th>African</th>\n",
              "      <th>American</th>\n",
              "      <th>Armenian</th>\n",
              "      <th>Asian/Asian Fusion</th>\n",
              "      <th>Australian</th>\n",
              "      <th>Bagels/Pretzels</th>\n",
              "      <th>Bakery Products/Desserts</th>\n",
              "      <th>Bangladeshi</th>\n",
              "      <th>Barbecue</th>\n",
              "      <th>...</th>\n",
              "      <th>Southeast Asian</th>\n",
              "      <th>Southwestern</th>\n",
              "      <th>Spanish</th>\n",
              "      <th>Steakhouse</th>\n",
              "      <th>Tapas</th>\n",
              "      <th>Tex-Mex</th>\n",
              "      <th>Thai</th>\n",
              "      <th>Turkish</th>\n",
              "      <th>Vegan</th>\n",
              "      <th>Vegetarian</th>\n",
              "    </tr>\n",
              "    <tr>\n",
              "      <th>CRITICAL FLAG</th>\n",
              "      <th></th>\n",
              "      <th></th>\n",
              "      <th></th>\n",
              "      <th></th>\n",
              "      <th></th>\n",
              "      <th></th>\n",
              "      <th></th>\n",
              "      <th></th>\n",
              "      <th></th>\n",
              "      <th></th>\n",
              "      <th></th>\n",
              "      <th></th>\n",
              "      <th></th>\n",
              "      <th></th>\n",
              "      <th></th>\n",
              "      <th></th>\n",
              "      <th></th>\n",
              "      <th></th>\n",
              "      <th></th>\n",
              "      <th></th>\n",
              "      <th></th>\n",
              "    </tr>\n",
              "  </thead>\n",
              "  <tbody>\n",
              "    <tr>\n",
              "      <th>Critical</th>\n",
              "      <td>88</td>\n",
              "      <td>561</td>\n",
              "      <td>19691</td>\n",
              "      <td>24</td>\n",
              "      <td>2240</td>\n",
              "      <td>145</td>\n",
              "      <td>1232</td>\n",
              "      <td>4748</td>\n",
              "      <td>532</td>\n",
              "      <td>303</td>\n",
              "      <td>...</td>\n",
              "      <td>592</td>\n",
              "      <td>9</td>\n",
              "      <td>3549</td>\n",
              "      <td>370</td>\n",
              "      <td>146</td>\n",
              "      <td>1222</td>\n",
              "      <td>1898</td>\n",
              "      <td>392</td>\n",
              "      <td>346</td>\n",
              "      <td>329</td>\n",
              "    </tr>\n",
              "    <tr>\n",
              "      <th>Not Applicable</th>\n",
              "      <td>4</td>\n",
              "      <td>14</td>\n",
              "      <td>521</td>\n",
              "      <td>0</td>\n",
              "      <td>33</td>\n",
              "      <td>4</td>\n",
              "      <td>12</td>\n",
              "      <td>60</td>\n",
              "      <td>4</td>\n",
              "      <td>15</td>\n",
              "      <td>...</td>\n",
              "      <td>7</td>\n",
              "      <td>1</td>\n",
              "      <td>75</td>\n",
              "      <td>10</td>\n",
              "      <td>5</td>\n",
              "      <td>35</td>\n",
              "      <td>12</td>\n",
              "      <td>6</td>\n",
              "      <td>5</td>\n",
              "      <td>4</td>\n",
              "    </tr>\n",
              "    <tr>\n",
              "      <th>Not Critical</th>\n",
              "      <td>83</td>\n",
              "      <td>382</td>\n",
              "      <td>16120</td>\n",
              "      <td>19</td>\n",
              "      <td>1576</td>\n",
              "      <td>130</td>\n",
              "      <td>942</td>\n",
              "      <td>3895</td>\n",
              "      <td>324</td>\n",
              "      <td>239</td>\n",
              "      <td>...</td>\n",
              "      <td>407</td>\n",
              "      <td>12</td>\n",
              "      <td>2582</td>\n",
              "      <td>282</td>\n",
              "      <td>101</td>\n",
              "      <td>1282</td>\n",
              "      <td>1415</td>\n",
              "      <td>327</td>\n",
              "      <td>268</td>\n",
              "      <td>288</td>\n",
              "    </tr>\n",
              "  </tbody>\n",
              "</table>\n",
              "<p>3 rows × 89 columns</p>\n",
              "</div>\n",
              "    <div class=\"colab-df-buttons\">\n",
              "\n",
              "  <div class=\"colab-df-container\">\n",
              "    <button class=\"colab-df-convert\" onclick=\"convertToInteractive('df-bb1d8796-ffe3-4183-abfd-b427ba2c3c2f')\"\n",
              "            title=\"Convert this dataframe to an interactive table.\"\n",
              "            style=\"display:none;\">\n",
              "\n",
              "  <svg xmlns=\"http://www.w3.org/2000/svg\" height=\"24px\" viewBox=\"0 -960 960 960\">\n",
              "    <path d=\"M120-120v-720h720v720H120Zm60-500h600v-160H180v160Zm220 220h160v-160H400v160Zm0 220h160v-160H400v160ZM180-400h160v-160H180v160Zm440 0h160v-160H620v160ZM180-180h160v-160H180v160Zm440 0h160v-160H620v160Z\"/>\n",
              "  </svg>\n",
              "    </button>\n",
              "\n",
              "  <style>\n",
              "    .colab-df-container {\n",
              "      display:flex;\n",
              "      gap: 12px;\n",
              "    }\n",
              "\n",
              "    .colab-df-convert {\n",
              "      background-color: #E8F0FE;\n",
              "      border: none;\n",
              "      border-radius: 50%;\n",
              "      cursor: pointer;\n",
              "      display: none;\n",
              "      fill: #1967D2;\n",
              "      height: 32px;\n",
              "      padding: 0 0 0 0;\n",
              "      width: 32px;\n",
              "    }\n",
              "\n",
              "    .colab-df-convert:hover {\n",
              "      background-color: #E2EBFA;\n",
              "      box-shadow: 0px 1px 2px rgba(60, 64, 67, 0.3), 0px 1px 3px 1px rgba(60, 64, 67, 0.15);\n",
              "      fill: #174EA6;\n",
              "    }\n",
              "\n",
              "    .colab-df-buttons div {\n",
              "      margin-bottom: 4px;\n",
              "    }\n",
              "\n",
              "    [theme=dark] .colab-df-convert {\n",
              "      background-color: #3B4455;\n",
              "      fill: #D2E3FC;\n",
              "    }\n",
              "\n",
              "    [theme=dark] .colab-df-convert:hover {\n",
              "      background-color: #434B5C;\n",
              "      box-shadow: 0px 1px 3px 1px rgba(0, 0, 0, 0.15);\n",
              "      filter: drop-shadow(0px 1px 2px rgba(0, 0, 0, 0.3));\n",
              "      fill: #FFFFFF;\n",
              "    }\n",
              "  </style>\n",
              "\n",
              "    <script>\n",
              "      const buttonEl =\n",
              "        document.querySelector('#df-bb1d8796-ffe3-4183-abfd-b427ba2c3c2f button.colab-df-convert');\n",
              "      buttonEl.style.display =\n",
              "        google.colab.kernel.accessAllowed ? 'block' : 'none';\n",
              "\n",
              "      async function convertToInteractive(key) {\n",
              "        const element = document.querySelector('#df-bb1d8796-ffe3-4183-abfd-b427ba2c3c2f');\n",
              "        const dataTable =\n",
              "          await google.colab.kernel.invokeFunction('convertToInteractive',\n",
              "                                                    [key], {});\n",
              "        if (!dataTable) return;\n",
              "\n",
              "        const docLinkHtml = 'Like what you see? Visit the ' +\n",
              "          '<a target=\"_blank\" href=https://colab.research.google.com/notebooks/data_table.ipynb>data table notebook</a>'\n",
              "          + ' to learn more about interactive tables.';\n",
              "        element.innerHTML = '';\n",
              "        dataTable['output_type'] = 'display_data';\n",
              "        await google.colab.output.renderOutput(dataTable, element);\n",
              "        const docLink = document.createElement('div');\n",
              "        docLink.innerHTML = docLinkHtml;\n",
              "        element.appendChild(docLink);\n",
              "      }\n",
              "    </script>\n",
              "  </div>\n",
              "\n",
              "\n",
              "<div id=\"df-999e8351-2c87-4c4a-aad7-67392d4d73e2\">\n",
              "  <button class=\"colab-df-quickchart\" onclick=\"quickchart('df-999e8351-2c87-4c4a-aad7-67392d4d73e2')\"\n",
              "            title=\"Suggest charts\"\n",
              "            style=\"display:none;\">\n",
              "\n",
              "<svg xmlns=\"http://www.w3.org/2000/svg\" height=\"24px\"viewBox=\"0 0 24 24\"\n",
              "     width=\"24px\">\n",
              "    <g>\n",
              "        <path d=\"M19 3H5c-1.1 0-2 .9-2 2v14c0 1.1.9 2 2 2h14c1.1 0 2-.9 2-2V5c0-1.1-.9-2-2-2zM9 17H7v-7h2v7zm4 0h-2V7h2v10zm4 0h-2v-4h2v4z\"/>\n",
              "    </g>\n",
              "</svg>\n",
              "  </button>\n",
              "\n",
              "<style>\n",
              "  .colab-df-quickchart {\n",
              "      --bg-color: #E8F0FE;\n",
              "      --fill-color: #1967D2;\n",
              "      --hover-bg-color: #E2EBFA;\n",
              "      --hover-fill-color: #174EA6;\n",
              "      --disabled-fill-color: #AAA;\n",
              "      --disabled-bg-color: #DDD;\n",
              "  }\n",
              "\n",
              "  [theme=dark] .colab-df-quickchart {\n",
              "      --bg-color: #3B4455;\n",
              "      --fill-color: #D2E3FC;\n",
              "      --hover-bg-color: #434B5C;\n",
              "      --hover-fill-color: #FFFFFF;\n",
              "      --disabled-bg-color: #3B4455;\n",
              "      --disabled-fill-color: #666;\n",
              "  }\n",
              "\n",
              "  .colab-df-quickchart {\n",
              "    background-color: var(--bg-color);\n",
              "    border: none;\n",
              "    border-radius: 50%;\n",
              "    cursor: pointer;\n",
              "    display: none;\n",
              "    fill: var(--fill-color);\n",
              "    height: 32px;\n",
              "    padding: 0;\n",
              "    width: 32px;\n",
              "  }\n",
              "\n",
              "  .colab-df-quickchart:hover {\n",
              "    background-color: var(--hover-bg-color);\n",
              "    box-shadow: 0 1px 2px rgba(60, 64, 67, 0.3), 0 1px 3px 1px rgba(60, 64, 67, 0.15);\n",
              "    fill: var(--button-hover-fill-color);\n",
              "  }\n",
              "\n",
              "  .colab-df-quickchart-complete:disabled,\n",
              "  .colab-df-quickchart-complete:disabled:hover {\n",
              "    background-color: var(--disabled-bg-color);\n",
              "    fill: var(--disabled-fill-color);\n",
              "    box-shadow: none;\n",
              "  }\n",
              "\n",
              "  .colab-df-spinner {\n",
              "    border: 2px solid var(--fill-color);\n",
              "    border-color: transparent;\n",
              "    border-bottom-color: var(--fill-color);\n",
              "    animation:\n",
              "      spin 1s steps(1) infinite;\n",
              "  }\n",
              "\n",
              "  @keyframes spin {\n",
              "    0% {\n",
              "      border-color: transparent;\n",
              "      border-bottom-color: var(--fill-color);\n",
              "      border-left-color: var(--fill-color);\n",
              "    }\n",
              "    20% {\n",
              "      border-color: transparent;\n",
              "      border-left-color: var(--fill-color);\n",
              "      border-top-color: var(--fill-color);\n",
              "    }\n",
              "    30% {\n",
              "      border-color: transparent;\n",
              "      border-left-color: var(--fill-color);\n",
              "      border-top-color: var(--fill-color);\n",
              "      border-right-color: var(--fill-color);\n",
              "    }\n",
              "    40% {\n",
              "      border-color: transparent;\n",
              "      border-right-color: var(--fill-color);\n",
              "      border-top-color: var(--fill-color);\n",
              "    }\n",
              "    60% {\n",
              "      border-color: transparent;\n",
              "      border-right-color: var(--fill-color);\n",
              "    }\n",
              "    80% {\n",
              "      border-color: transparent;\n",
              "      border-right-color: var(--fill-color);\n",
              "      border-bottom-color: var(--fill-color);\n",
              "    }\n",
              "    90% {\n",
              "      border-color: transparent;\n",
              "      border-bottom-color: var(--fill-color);\n",
              "    }\n",
              "  }\n",
              "</style>\n",
              "\n",
              "  <script>\n",
              "    async function quickchart(key) {\n",
              "      const quickchartButtonEl =\n",
              "        document.querySelector('#' + key + ' button');\n",
              "      quickchartButtonEl.disabled = true;  // To prevent multiple clicks.\n",
              "      quickchartButtonEl.classList.add('colab-df-spinner');\n",
              "      try {\n",
              "        const charts = await google.colab.kernel.invokeFunction(\n",
              "            'suggestCharts', [key], {});\n",
              "      } catch (error) {\n",
              "        console.error('Error during call to suggestCharts:', error);\n",
              "      }\n",
              "      quickchartButtonEl.classList.remove('colab-df-spinner');\n",
              "      quickchartButtonEl.classList.add('colab-df-quickchart-complete');\n",
              "    }\n",
              "    (() => {\n",
              "      let quickchartButtonEl =\n",
              "        document.querySelector('#df-999e8351-2c87-4c4a-aad7-67392d4d73e2 button');\n",
              "      quickchartButtonEl.style.display =\n",
              "        google.colab.kernel.accessAllowed ? 'block' : 'none';\n",
              "    })();\n",
              "  </script>\n",
              "</div>\n",
              "    </div>\n",
              "  </div>\n"
            ],
            "application/vnd.google.colaboratory.intrinsic+json": {
              "type": "dataframe",
              "variable_name": "critical"
            }
          },
          "metadata": {},
          "execution_count": 7
        }
      ]
    },
    {
      "cell_type": "code",
      "source": [
        "ct_critical = critical['Coffee/Tea'].iloc[0] / sum(critical['Coffee/Tea'])\n",
        "pizza_critical = critical['Pizza'].iloc[0] / sum(critical['Pizza'])\n",
        "\n",
        "crit_observed_stat = abs(ct_critical - pizza_critical)\n",
        "\n",
        "crit_observed_stat"
      ],
      "metadata": {
        "colab": {
          "base_uri": "https://localhost:8080/"
        },
        "id": "N9IFrPp-IZdT",
        "outputId": "dc87a877-cb93-4eb0-8727-e4315f3b335a"
      },
      "execution_count": null,
      "outputs": [
        {
          "output_type": "execute_result",
          "data": {
            "text/plain": [
              "0.03608881229592398"
            ]
          },
          "metadata": {},
          "execution_count": 8
        }
      ]
    },
    {
      "cell_type": "markdown",
      "source": [
        "*The* observed statistic is 0.03608881229592398."
      ],
      "metadata": {
        "id": "hkdpuxwuKT0a"
      }
    },
    {
      "cell_type": "code",
      "source": [
        "diff_ratios = []\n",
        "repetitions = 1000\n",
        "for i in np.arange(repetitions):\n",
        "\n",
        "    #shuffle the dataframe up\n",
        "    shuffled_inspection = inspection_cleaned.sample(len(inspection_cleaned), replace=False)\n",
        "    #reset the index so that we can create our own little dataframe with the original column\n",
        "    #and shuffled column side by side\n",
        "    shuffled_inspection = shuffled_inspection.reset_index()\n",
        "\n",
        "    permuted_inspection = pd.DataFrame({'cuisine': inspection_cleaned['CUISINE DESCRIPTION'], 'critical': inspection_cleaned['CRITICAL FLAG'],\n",
        "                                    'shuffled_critical' : shuffled_inspection['CRITICAL FLAG']})\n",
        "    permuted_critical_inspection = permuted_inspection.pivot_table(index='shuffled_critical',\n",
        "                                                          columns = 'cuisine', values = 'critical',\n",
        "                                                          aggfunc='count', fill_value=0)\n",
        "\n",
        "    permuted_ct_critical = permuted_critical_inspection['Coffee/Tea'].iloc[0] / sum(permuted_critical_inspection['Coffee/Tea'])\n",
        "    permuted_pizza_critical = permuted_critical_inspection['Pizza'].iloc[0] / sum(permuted_critical_inspection['Pizza'])\n",
        "\n",
        "    current_stat = abs(permuted_ct_critical - permuted_pizza_critical)\n",
        "    diff_ratios.append(current_stat)\n",
        "\n",
        "# turning the list into an array for easier p-value calculation if needed\n",
        "diff_ratios = np.array(diff_ratios)"
      ],
      "metadata": {
        "id": "pq6NN-VrKaks"
      },
      "execution_count": null,
      "outputs": []
    },
    {
      "cell_type": "code",
      "source": [
        "plt.hist(diff_ratios, edgecolor = \"black\", label = \"Simulated\")\n",
        "plt.axvline(crit_observed_stat, linestyle = \"dashed\", color = \"red\", label = \"Observed Statistic\")\n",
        "plt.title(\"Dist. of simulated diff. in ratios of Critical health level between coffee/tea and pizza restaurants\")\n",
        "plt.xlabel(\"Difference of ratios\")\n",
        "plt.ylabel(\"Frequency\")\n",
        "plt.legend();"
      ],
      "metadata": {
        "colab": {
          "base_uri": "https://localhost:8080/",
          "height": 472
        },
        "id": "_y30A-vQMiVU",
        "outputId": "53ba5958-6263-4df7-bd41-28129c5c6126"
      },
      "execution_count": null,
      "outputs": [
        {
          "output_type": "display_data",
          "data": {
            "text/plain": [
              "<Figure size 640x480 with 1 Axes>"
            ],
            "image/png": "[encoded data removed]"
          },
          "metadata": {}
        }
      ]
    },
    {
      "cell_type": "code",
      "source": [
        "p_value_crit = np.sum(np.array(diff_ratios) >= crit_observed_stat) / repetitions\n",
        "\n",
        "p_value_crit"
      ],
      "metadata": {
        "colab": {
          "base_uri": "https://localhost:8080/"
        },
        "id": "i476sJWEM1PP",
        "outputId": "820feb15-8b22-4bd7-ff28-5ca1cb3094e8"
      },
      "execution_count": null,
      "outputs": [
        {
          "output_type": "execute_result",
          "data": {
            "text/plain": [
              "0.0"
            ]
          },
          "metadata": {},
          "execution_count": 11
        }
      ]
    },
    {
      "cell_type": "markdown",
      "source": [
        "The p-value is < 0.001. Using the regular significance level of 0.05, which is apt for this analysis, we reject the null hypothesis. This means that one cuisine type tended to have more Critical health inspection results than the other."
      ],
      "metadata": {
        "id": "nflzQtRPM5w1"
      }
    },
    {
      "cell_type": "markdown",
      "source": [
        "## Hypothesis 4\n",
        "Given that we've established that a one cuisine type can tend to have more critical health inspection results... I want to explore a regression model that predicts what health inspection results are predicted by certain cuisines:\n",
        "\n",
        "The type of cuisine is a strong predictor of health inspection scores for restaurants in New York City.\n",
        "\n",
        "If certain types of cuisines are associated with higher or lower health inspection scores, then this could be due to various factors, such as different cooking techniques, ingredients, and typical kitchen practices of each cuisine type. For example, cuisines that require more raw ingredients or complex preparation might have different scores compared to simpler cuisines.\n",
        "\n",
        "Null Hypothesis (H0): Coefficient of cuisine types are zero. The type of the cuisine has no significant effect on the health inspection scores/\n",
        "Alternative Hypothesis(H1): At least one coefficient score for cuisines is significantly different from zero, suggesting that the type of cuisine does have an impact on health inspection scores.\n",
        "Statistic: T-stat."
      ],
      "metadata": {
        "id": "qaqY9McqARLm"
      }
    },
    {
      "cell_type": "code",
      "source": [
        "# Cleaning datapoints with 'NAN' Score values\n",
        "inspection_cleaned = inspection_cleaned.dropna(subset=['SCORE'])\n",
        "print(inspection_cleaned.isnull().sum())"
      ],
      "metadata": {
        "colab": {
          "base_uri": "https://localhost:8080/"
        },
        "id": "X34ZMruA5k8I",
        "outputId": "2942f732-461c-42df-ee25-2cd33ec8be86"
      },
      "execution_count": 12,
      "outputs": [
        {
          "output_type": "stream",
          "name": "stdout",
          "text": [
            "CAMIS                         0\n",
            "DBA                           0\n",
            "BORO                          0\n",
            "STREET                        0\n",
            "ZIPCODE                    2624\n",
            "CUISINE DESCRIPTION           0\n",
            "INSPECTION DATE               0\n",
            "ACTION                        0\n",
            "VIOLATION CODE              626\n",
            "VIOLATION DESCRIPTION       626\n",
            "CRITICAL FLAG                 0\n",
            "SCORE                         0\n",
            "GRADE                    102563\n",
            "GRADE DATE               110995\n",
            "INSPECTION TYPE               0\n",
            "Latitude                    249\n",
            "Longitude                   249\n",
            "BBL                         622\n",
            "dtype: int64\n"
          ]
        }
      ]
    },
    {
      "cell_type": "code",
      "source": [
        "# Encoding 'CUISINE DESCRIPTION' into binary indicators\n",
        "cuisine_dummies = pd.get_dummies(inspection_cleaned['CUISINE DESCRIPTION'], drop_first=True)\n",
        "\n",
        "# Prepping data for regression\n",
        "X = cuisine_dummies\n",
        "X = np.column_stack((np.ones(len(X)), X))  # Add an intercept term to the predictor\n",
        "y = inspection_cleaned['SCORE']\n",
        "\n",
        "# Linear Regression\n",
        "beta_hat = np.linalg.inv(X.T @ X) @ X.T @ y\n",
        "\n",
        "# Calculate the residuals and the variance of the residuals\n",
        "residuals = y - X @ beta_hat\n",
        "residual_variance = np.sum(residuals**2) / (X.shape[0] - X.shape[1])\n",
        "\n",
        "# Calculate the standard error of the coefficients\n",
        "standard_errors = np.sqrt(np.diagonal(residual_variance * np.linalg.inv(X.T @ X)))\n",
        "\n",
        "# Calculate the t-statistics for each coefficient\n",
        "t_stats = beta_hat / standard_errors\n",
        "\n",
        "# Calculate the p-values\n",
        "from scipy.stats import t\n",
        "p_values = [2 * (1 - t.cdf(np.abs(t_stat), df=X.shape[0] - X.shape[1])) for t_stat in t_stats]\n",
        "\n",
        "# Print results\n",
        "coef_summary = pd.DataFrame({'Coefficient': beta_hat, 'Standard Error': standard_errors, 't-Statistic': t_stats, 'p-Value': p_values}, index=['Intercept'] + list(cuisine_dummies.columns))\n",
        "print(coef_summary)\n",
        "\n",
        "plt.figure(figsize=(20, 10))\n",
        "coef_summary['Coefficient'].plot(kind='bar')\n",
        "plt.xlabel('Cuisine Type')\n",
        "plt.ylabel('Coefficient Value')\n",
        "plt.title('Impact of Cuisine Type on Inspection Scores')\n",
        "plt.tight_layout()\n",
        "plt.show()"
      ],
      "metadata": {
        "colab": {
          "base_uri": "https://localhost:8080/",
          "height": 655
        },
        "id": "FX1NAwq-4rSB",
        "outputId": "31c15dce-d49d-49eb-e9b0-de8af38c5bcd"
      },
      "execution_count": 22,
      "outputs": [
        {
          "output_type": "stream",
          "name": "stdout",
          "text": [
            "                    Coefficient  Standard Error  t-Statistic   p-Value\n",
            "Intercept             25.222222        1.362868    18.506730  0.000000\n",
            "African                6.344408        1.477637     4.293619  0.000018\n",
            "American              -4.384127        1.366002    -3.209458  0.001330\n",
            "Armenian               7.752778        3.062664     2.531384  0.011362\n",
            "Asian/Asian Fusion     0.484523        1.391987     0.348080  0.727780\n",
            "...                         ...             ...          ...       ...\n",
            "Tex-Mex               -6.195677        1.407910    -4.400620  0.000011\n",
            "Thai                  -0.456232        1.396887    -0.326606  0.743966\n",
            "Turkish                0.844921        1.512371     0.558673  0.576386\n",
            "Vegan                  0.553669        1.538920     0.359778  0.719014\n",
            "Vegetarian            -0.809069        1.537800    -0.526121  0.598805\n",
            "\n",
            "[89 rows x 4 columns]\n"
          ]
        },
        {
          "output_type": "display_data",
          "data": {
            "text/plain": [
              "<Figure size 2000x1000 with 1 Axes>"
            ],
            "image/png": "[encoded data removed]"
          },
          "metadata": {}
        }
      ]
    },
    {
      "cell_type": "markdown",
      "source": [
        "Here I performed a regression model. The thing to pay attention to is the outputted correlation values as well as the plot itself. The intercept was calculated after dropping the first category to avoid collinearity, so it represents the **average health inspection score for a baseline cuisine**. This creates a reference point for comparing the effects of other cuisines, the coefficients for the other cuisines tell you how much higher or lower their inspection scores are relative to this baseline.\n",
        "\n",
        "Since my intercept value is 25, then the average health inspection score for a baseline cuisine is around 25. Every other calculated coefficient score adjusts to this baseline score either above or below 0 depending on associated effects of that cuisine type on inspection scores.\n",
        "\n",
        "This model is designed to predict health inspection scores based on different types of cuisines... cuisines with low p-values (below 0.04) indicate that the difference in health-inspection scores for these cuisines are statistically significant and unlikely due to random chance. Looking at these cuisines, we hone in on the positive or negative coefficients. Those with positive coefficients suggest cuisines that are associated with higher health scores, and negative coefficients are associated with cuisines that consistently score lower.\n",
        "\n",
        "Non-significant cuisines (P > 0.05) suggest no statistical signifiacnce to say that their inspection scores are different from the intercept baseline due to cuisine type. This suggests other factors might hold more influence in determining inspection outcomes for these cuisines (Maybe look in PC Analysis)"
      ],
      "metadata": {
        "id": "PgruBmsUQWRV"
      }
    },
    {
      "cell_type": "markdown",
      "source": [],
      "metadata": {
        "id": "p_cEPdtAVSGM"
      }
    },
    {
      "cell_type": "markdown",
      "metadata": {
        "id": "pvwoS2Vd_rz9"
      },
      "source": [
        "## Conclusion / What are the most important takeaways from this project?\n",
        "\n",
        "What further areas of investigation could be pursued? Are there any limitations/caveats to your findings? Any surprising conclusions? What did you learn from this project (Python skills or topic-related)?"
      ]
    },
    {
      "cell_type": "markdown",
      "source": [
        "Conclusion: The project has reveal notable trends and disparity in health inspection scores across NYC restaurants. The significant difference in scores between Staten Island and the other boroughs show a potential systemic issue specific to that borough. The differing cuisine distributions between the Bronx and Manhattan suggests unique culinary cultures in each borough, offering some insight for targeted health inspection strategies. Also, the analysis of critical health isnpectionr esults among coffee/tea and pizza restaurants highlight an importance of examining specific cuisines to identify risk factors to the health inspections. The regression model highlighted that some cuisine types are indeed more prone to higher or lower ealth inspection scores, pointing to inherent risks related to cuisine-specific practices and preparation techniques.\n",
        "\n",
        "Future studies could dig deeper into the root of the causes of cuisine-specific risks. It could potentially be done byt analyizing the impact of restaurt size, practices in the kitchen, and ingredients that could yield risky findings. Exploring principal component analysis might also help to uncover hidden factors that influence the inspection outcomes for non-significant p-values.\n",
        "\n",
        "The findings are limited itself may be limited to the dataset's scope that might not capture the entirety of New York Restaurants. Many of these restaurants were only included if they had a score and many restaurants were excluded simply because they'd never been inspected. Furthermore, there could be biases in the inspection process and reporting practices that should be considered when making interpretations simply because different inspectors manage different areas and could be prone to different forms of inspection rigor.\n",
        "\n",
        "It was more surprising to find out to which extent a certain cuisine might have an impact to an associated inspection outcome. Like how Asian/Asian Fusion seems to not have its scores influenced by the type of cuisine that it is. This might suggest that there needs to be more tailored inspection approaches.\n",
        "\n",
        "From a technical perspective, this project did well to improve our overall Python and statistical skills, particularly in data manipulation and statistical modeling. We learned the importance of considering geographic and culinary factors when inspecting restaurant health inspection scores."
      ],
      "metadata": {
        "id": "g4BZuZplg2uB"
      }
    }
  ],
  "metadata": {
    "kernelspec": {
      "display_name": "Python 3",
      "language": "python",
      "name": "python3"
    },
    "language_info": {
      "codemirror_mode": {
        "name": "ipython",
        "version": 3
      },
      "file_extension": ".py",
      "mimetype": "text/x-python",
      "name": "python",
      "nbconvert_exporter": "python",
      "pygments_lexer": "ipython3",
      "version": "3.7.7"
    },
    "colab": {
      "provenance": []
    }
  },
  "nbformat": 4,
  "nbformat_minor": 0
}